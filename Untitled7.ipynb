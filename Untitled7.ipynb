{
  "nbformat": 4,
  "nbformat_minor": 0,
  "metadata": {
    "colab": {
      "name": "Untitled7.ipynb",
      "provenance": [],
      "authorship_tag": "ABX9TyMhLJkBmR7zMxdjCtmvz4+M",
      "include_colab_link": true
    },
    "kernelspec": {
      "name": "python3",
      "display_name": "Python 3"
    },
    "language_info": {
      "name": "python"
    }
  },
  "cells": [
    {
      "cell_type": "markdown",
      "metadata": {
        "id": "view-in-github",
        "colab_type": "text"
      },
      "source": [
        "<a href=\"https://colab.research.google.com/github/shashwat0070/25_Aug_Exp2_3_ShashwatMishra_R103219017/blob/main/Untitled7.ipynb\" target=\"_parent\"><img src=\"https://colab.research.google.com/assets/colab-badge.svg\" alt=\"Open In Colab\"/></a>"
      ]
    },
    {
      "cell_type": "code",
      "metadata": {
        "colab": {
          "base_uri": "https://localhost:8080/"
        },
        "id": "THZdLzEtymEf",
        "outputId": "a79625b4-6271-4f2f-f35a-ade7a1c7c567"
      },
      "source": [
        "import cvxpy as cp\n",
        "x1 = cp.Variable(integer = True)\n",
        "x2 = cp.Variable(integer = True)\n",
        "objective = cp.Maximize( 7*x1 + 10*x2 )\n",
        "constraints = [ -1*x1 + 3*x2 <= 6 , 7*x1 + x2 <= 35, x1>=0, x2>=0]\n",
        "prob = cp.Problem(objective,constraints)\n",
        "prob.solve()"
      ],
      "execution_count": 1,
      "outputs": [
        {
          "output_type": "execute_result",
          "data": {
            "text/plain": [
              "58.0"
            ]
          },
          "metadata": {},
          "execution_count": 1
        }
      ]
    },
    {
      "cell_type": "code",
      "metadata": {
        "colab": {
          "base_uri": "https://localhost:8080/"
        },
        "id": "ZeOPnwHEyxph",
        "outputId": "f6f0edb3-18ea-4c0f-c939-2108a5d389a3"
      },
      "source": [
        "x1 = cp.Variable(integer = True)\n",
        "x2 = cp.Variable(integer = True)\n",
        "objective = cp.Maximize( 5*x1 + 8*x2 )\n",
        "constraints = [ 1*x1 + 1*x2 <= 6 , 5*x1 + 9*x2 <= 45, x1>=0, x2>=0]\n",
        "prob = cp.Problem(objective,constraints)\n",
        "prob.solve()"
      ],
      "execution_count": 2,
      "outputs": [
        {
          "output_type": "execute_result",
          "data": {
            "text/plain": [
              "40.0"
            ]
          },
          "metadata": {},
          "execution_count": 2
        }
      ]
    },
    {
      "cell_type": "code",
      "metadata": {
        "colab": {
          "base_uri": "https://localhost:8080/"
        },
        "id": "EdgfPyuyz1C_",
        "outputId": "e03c626e-9b9c-4bda-8432-0d2f0df81308"
      },
      "source": [
        "x1 = cp.Variable(integer = True)\n",
        "x2 = cp.Variable(integer = True)\n",
        "objective = cp.Maximize( 10*x1 + 12*x2 )\n",
        "constraints = [ x1 + x2 <= 35 , x1<=12, x2<=25]\n",
        "prob = cp.Problem(objective,constraints)\n",
        "prob.solve()"
      ],
      "execution_count": 3,
      "outputs": [
        {
          "output_type": "execute_result",
          "data": {
            "text/plain": [
              "400.0"
            ]
          },
          "metadata": {},
          "execution_count": 3
        }
      ]
    }
  ]
}