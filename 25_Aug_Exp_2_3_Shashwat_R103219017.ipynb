{
  "nbformat": 4,
  "nbformat_minor": 0,
  "metadata": {
    "colab": {
      "name": "25_Aug_Exp_2_3_Shashwat_R103219017.ipynb",
      "provenance": [],
      "collapsed_sections": [],
      "authorship_tag": "ABX9TyN/3EZ0lVpu7wg6VE+piWCP",
      "include_colab_link": true
    },
    "kernelspec": {
      "name": "python3",
      "display_name": "Python 3"
    },
    "language_info": {
      "name": "python"
    }
  },
  "cells": [
    {
      "cell_type": "markdown",
      "metadata": {
        "id": "view-in-github",
        "colab_type": "text"
      },
      "source": [
        "<a href=\"https://colab.research.google.com/github/shashwat0070/Operational_Research_ShashwatMishra_R103219017/blob/main/25_Aug_Exp_2_3_Shashwat_R103219017.ipynb\" target=\"_parent\"><img src=\"https://colab.research.google.com/assets/colab-badge.svg\" alt=\"Open In Colab\"/></a>"
      ]
    },
    {
      "cell_type": "markdown",
      "metadata": {
        "id": "axaKg7MOz2iW"
      },
      "source": [
        "OR LAB EXPERIMENT - 2,3\n",
        "SHASHWAT MISHRA - 500075273 - R103219017 - CSE - BAO (5th Sem)"
      ]
    },
    {
      "cell_type": "markdown",
      "metadata": {
        "id": "3yhmuO1j0A9J"
      },
      "source": [
        "ANS-1"
      ]
    },
    {
      "cell_type": "code",
      "metadata": {
        "id": "ECUBdjQi0DCs"
      },
      "source": [
        "from scipy.optimize import linprog\n"
      ],
      "execution_count": 1,
      "outputs": []
    },
    {
      "cell_type": "code",
      "metadata": {
        "colab": {
          "base_uri": "https://localhost:8080/"
        },
        "id": "Q2O7V6jq0I9o",
        "outputId": "efd0b5ce-9882-4218-f90b-6bd54d583649"
      },
      "source": [
        "obj = [-40 , -35]\n",
        "lhs_ineq = [[2,3] , [4,3] ]\n",
        "rhs_ineq = [60,96]\n",
        "bnd = [(0, float(\"inf\")), (0, float(\"inf\"))]\n",
        "opt = linprog(c=obj, A_ub=lhs_ineq, b_ub=rhs_ineq, bounds=bnd,method=\"revised simplex\")\n",
        "opt"
      ],
      "execution_count": 2,
      "outputs": [
        {
          "output_type": "execute_result",
          "data": {
            "text/plain": [
              "     con: array([], dtype=float64)\n",
              "     fun: -1000.0\n",
              " message: 'Optimization terminated successfully.'\n",
              "     nit: 2\n",
              "   slack: array([0., 0.])\n",
              "  status: 0\n",
              " success: True\n",
              "       x: array([18.,  8.])"
            ]
          },
          "metadata": {},
          "execution_count": 2
        }
      ]
    },
    {
      "cell_type": "markdown",
      "metadata": {
        "id": "KbNe5syd0MKj"
      },
      "source": [
        "Firm can earn Maximum Profit = Rs. 1000 when A = 18 and B = 8"
      ]
    },
    {
      "cell_type": "markdown",
      "metadata": {
        "id": "gd1BdUHQ0Oy3"
      },
      "source": [
        "ANS-2:"
      ]
    },
    {
      "cell_type": "code",
      "metadata": {
        "colab": {
          "base_uri": "https://localhost:8080/"
        },
        "id": "wkrFEN7i0RPo",
        "outputId": "07ec658a-95dd-4ac2-fa47-252482e10e07"
      },
      "source": [
        "obj = [40 , 24]\n",
        "lhs_ineq = [[-20,-50] , [-80,-50] ]\n",
        "rhs_ineq = [-4800,-7200]\n",
        "bnd = [(0, float(\"inf\")), (0, float(\"inf\"))]\n",
        "opt = linprog(c=obj, A_ub=lhs_ineq, b_ub=rhs_ineq, bounds=bnd,method=\"revised simplex\")\n",
        "opt"
      ],
      "execution_count": 3,
      "outputs": [
        {
          "output_type": "execute_result",
          "data": {
            "text/plain": [
              "     con: array([], dtype=float64)\n",
              "     fun: 3456.0\n",
              " message: 'Optimization terminated successfully.'\n",
              "     nit: 3\n",
              "   slack: array([2400.,    0.])\n",
              "  status: 0\n",
              " success: True\n",
              "       x: array([  0., 144.])"
            ]
          },
          "metadata": {},
          "execution_count": 3
        }
      ]
    },
    {
      "cell_type": "markdown",
      "metadata": {
        "id": "GONgFUQ00Xc9"
      },
      "source": [
        "Cost is Minimum i.e. Rs. 3456.0 when Bags of Mixture A = 0 and Bags of Mixture B = 144\n",
        "\n"
      ]
    },
    {
      "cell_type": "markdown",
      "metadata": {
        "id": "VT747f2n0ZSj"
      },
      "source": [
        "ANS-3\n"
      ]
    },
    {
      "cell_type": "code",
      "metadata": {
        "colab": {
          "base_uri": "https://localhost:8080/"
        },
        "id": "OdjDJsxh0axD",
        "outputId": "e2a60de6-1998-42dd-f422-9554e4372119"
      },
      "source": [
        "obj = [-5 , -2]\n",
        "lhs_ineq = [[10,2] , [1,0.5]]\n",
        "rhs_ineq = [2100,600]\n",
        "bnd = [(0, float(\"inf\")), (800, float(\"inf\"))]\n",
        "opt = linprog(c=obj, A_ub=lhs_ineq, b_ub=rhs_ineq, bounds=bnd,method=\"revised simplex\")\n",
        "opt"
      ],
      "execution_count": 4,
      "outputs": [
        {
          "output_type": "execute_result",
          "data": {
            "text/plain": [
              "     con: array([], dtype=float64)\n",
              "     fun: -2100.0\n",
              " message: 'Optimization terminated successfully.'\n",
              "     nit: 2\n",
              "   slack: array([ 0., 75.])\n",
              "  status: 0\n",
              " success: True\n",
              "       x: array([   0., 1050.])"
            ]
          },
          "metadata": {},
          "execution_count": 4
        }
      ]
    },
    {
      "cell_type": "markdown",
      "metadata": {
        "id": "0jiclPGz0eb9"
      },
      "source": [
        "Profit is Maximum i.e. Rs. 2100 when No. of Units of A = 0 and No. of B = 1050 per week"
      ]
    },
    {
      "cell_type": "markdown",
      "metadata": {
        "id": "xOYVHu0i0fen"
      },
      "source": [
        "ANS-4:"
      ]
    },
    {
      "cell_type": "code",
      "metadata": {
        "colab": {
          "base_uri": "https://localhost:8080/"
        },
        "id": "h2zwcAtb0hoD",
        "outputId": "935bae19-2424-4d2c-8e6b-e696c9d5eedd"
      },
      "source": [
        "obj = [-60 , -40]\n",
        "lhs_ineq = [[2,1] ]\n",
        "rhs_ineq = [60]\n",
        "bnd = [(0, 25), (0, 35)]\n",
        "opt = linprog(c=obj, A_ub=lhs_ineq, b_ub=rhs_ineq, bounds=bnd,method=\"revised simplex\")\n",
        "opt"
      ],
      "execution_count": 5,
      "outputs": [
        {
          "output_type": "execute_result",
          "data": {
            "text/plain": [
              "     con: array([], dtype=float64)\n",
              "     fun: -2150.0\n",
              " message: 'Optimization terminated successfully.'\n",
              "     nit: 3\n",
              "   slack: array([0.])\n",
              "  status: 0\n",
              " success: True\n",
              "       x: array([12.5, 35. ])"
            ]
          },
          "metadata": {},
          "execution_count": 5
        }
      ]
    },
    {
      "cell_type": "markdown",
      "metadata": {
        "id": "l9yGd_Yz0meL"
      },
      "source": [
        "Profit is Maximum i.e. Rs. 2150 when No. of Refridgerator = 12.5 and Ranges = 35"
      ]
    },
    {
      "cell_type": "markdown",
      "metadata": {
        "id": "9HAZUlPV0nEN"
      },
      "source": [
        "ANS-5"
      ]
    },
    {
      "cell_type": "code",
      "metadata": {
        "colab": {
          "base_uri": "https://localhost:8080/"
        },
        "id": "eHKxbCbq0owv",
        "outputId": "d940fe91-9d83-4332-960d-cb9b1db46ba2"
      },
      "source": [
        "obj = [20 , 10]\n",
        "lhs_ineq = [[1,2] , [-3,-1], [-4,-3] ]\n",
        "rhs_ineq = [40,-30,-60]\n",
        "bnd = [(0, float(\"inf\")), (0, float(\"inf\"))]\n",
        "opt = linprog(c=obj, A_ub=lhs_ineq, b_ub=rhs_ineq, bounds=bnd,method=\"revised simplex\")\n",
        "opt"
      ],
      "execution_count": 6,
      "outputs": [
        {
          "output_type": "execute_result",
          "data": {
            "text/plain": [
              "     con: array([], dtype=float64)\n",
              "     fun: 240.0\n",
              " message: 'Optimization terminated successfully.'\n",
              "     nit: 2\n",
              "   slack: array([10.,  0.,  0.])\n",
              "  status: 0\n",
              " success: True\n",
              "       x: array([ 6., 12.])"
            ]
          },
          "metadata": {},
          "execution_count": 6
        }
      ]
    },
    {
      "cell_type": "markdown",
      "metadata": {
        "id": "WY79GnhF0swl"
      },
      "source": [
        "Z = 240 , X1 = 6 and X2 = 12"
      ]
    },
    {
      "cell_type": "markdown",
      "metadata": {
        "id": "sVasW7PL0uQD"
      },
      "source": [
        "ANS-6"
      ]
    },
    {
      "cell_type": "code",
      "metadata": {
        "colab": {
          "base_uri": "https://localhost:8080/"
        },
        "id": "-94Pfdye0vcv",
        "outputId": "fbb3fa88-5bf5-4a7f-c642-152fddcec805"
      },
      "source": [
        "obj = [-1 , -1 , -3]\n",
        "lhs_ineq = [[3,2,1] , [2,1,2]]\n",
        "rhs_ineq = [300,200]\n",
        "bnd = [(0, float(\"inf\")), (0, float(\"inf\")), (0, float(\"inf\"))]\n",
        "opt = linprog(c=obj, A_ub=lhs_ineq, b_ub=rhs_ineq, bounds=bnd,method=\"revised simplex\")\n",
        "opt"
      ],
      "execution_count": 7,
      "outputs": [
        {
          "output_type": "execute_result",
          "data": {
            "text/plain": [
              "     con: array([], dtype=float64)\n",
              "     fun: -300.0\n",
              " message: 'Optimization terminated successfully.'\n",
              "     nit: 1\n",
              "   slack: array([200.,   0.])\n",
              "  status: 0\n",
              " success: True\n",
              "       x: array([  0.,   0., 100.])"
            ]
          },
          "metadata": {},
          "execution_count": 7
        }
      ]
    },
    {
      "cell_type": "markdown",
      "metadata": {
        "id": "tXUT0LVu0zIP"
      },
      "source": [
        "Z = 300 , X1 = 0 , X2 = 0 , X3 = 100"
      ]
    }
  ]
}