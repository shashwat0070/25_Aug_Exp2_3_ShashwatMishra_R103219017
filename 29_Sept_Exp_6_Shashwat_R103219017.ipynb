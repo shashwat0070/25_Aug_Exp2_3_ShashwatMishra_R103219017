{
  "nbformat": 4,
  "nbformat_minor": 0,
  "metadata": {
    "colab": {
      "name": "29_Sept_Exp-6_Shashwat_R103219017.ipynb",
      "provenance": [],
      "collapsed_sections": [],
      "authorship_tag": "ABX9TyPNJaKPmfrPwGQXccu9Q8LP",
      "include_colab_link": true
    },
    "kernelspec": {
      "name": "python3",
      "display_name": "Python 3"
    },
    "language_info": {
      "name": "python"
    }
  },
  "cells": [
    {
      "cell_type": "markdown",
      "metadata": {
        "id": "view-in-github",
        "colab_type": "text"
      },
      "source": [
        "<a href=\"https://colab.research.google.com/github/shashwat0070/Operational_Research_ShashwatMishra_R103219017/blob/main/29_Sept_Exp_6_Shashwat_R103219017.ipynb\" target=\"_parent\"><img src=\"https://colab.research.google.com/assets/colab-badge.svg\" alt=\"Open In Colab\"/></a>"
      ]
    },
    {
      "cell_type": "markdown",
      "metadata": {
        "id": "eytQM4f21fbH"
      },
      "source": [
        "SHASHWAT MISHRA- R103219017 - 500075273 - BAO(5th Sem)"
      ]
    },
    {
      "cell_type": "markdown",
      "metadata": {
        "id": "sdot5Q_k1mb3"
      },
      "source": [
        "EXP-6"
      ]
    },
    {
      "cell_type": "markdown",
      "metadata": {
        "id": "NRT_hdrh1oEq"
      },
      "source": [
        "ANS-1\n",
        "\n"
      ]
    },
    {
      "cell_type": "code",
      "metadata": {
        "id": "8JmGdyqX1qwk"
      },
      "source": [
        "from scipy.optimize import linprog\n"
      ],
      "execution_count": 1,
      "outputs": []
    },
    {
      "cell_type": "code",
      "metadata": {
        "colab": {
          "base_uri": "https://localhost:8080/"
        },
        "id": "3GItS80n1vRr",
        "outputId": "7042049a-2939-4655-cf42-04d90df7f7f1"
      },
      "source": [
        "c = [-40 ,-50]\n",
        "A = [[ 3, 4],[1, 1],[0, 1]]\n",
        "b = [180, 50, 40]\n",
        "bnd = [(0, float(\"inf\")), (0, float(\"inf\"))]\n",
        "opt = linprog(c, A_ub=A, b_ub=b, bounds=bnd, method=\"revised simplex\")\n",
        "opt"
      ],
      "execution_count": 2,
      "outputs": [
        {
          "output_type": "execute_result",
          "data": {
            "text/plain": [
              "     con: array([], dtype=float64)\n",
              "     fun: -2300.0\n",
              " message: 'Optimization terminated successfully.'\n",
              "     nit: 3\n",
              "   slack: array([ 0.,  0., 10.])\n",
              "  status: 0\n",
              " success: True\n",
              "       x: array([20., 30.])"
            ]
          },
          "metadata": {},
          "execution_count": 2
        }
      ]
    },
    {
      "cell_type": "markdown",
      "metadata": {
        "id": "jjn5zp8s1wup"
      },
      "source": [
        "ANS-2"
      ]
    },
    {
      "cell_type": "code",
      "metadata": {
        "colab": {
          "base_uri": "https://localhost:8080/"
        },
        "id": "u4MO2LWs1x2F",
        "outputId": "7b27c49a-6463-4826-e926-c81aca375d68"
      },
      "source": [
        "c = [5, 4, 3, 7, 6, 5, -5000]\n",
        "lhs_ineq = [[-1, 0, 0, -1, 0, 0, 0],[-1, -1, 0, -1, -1, 0, 0]]\n",
        "rhs_ineq = [-1000, -4000]\n",
        "lhs_eq = [[1, 1, 1, 1, 1, 1, 0],[0, 0, 0, 0, 0, 0, 1]]\n",
        "rhs_eq = [6000, 1]\n",
        "bnd = [(0, 1500), (0, 1500), (0, 1500), (0,750), (0,750), (0,750), (1,1)]\n",
        "opt = linprog(c,A_eq=lhs_eq, b_eq=rhs_eq, A_ub=lhs_ineq, b_ub=rhs_ineq, bounds=bnd, method=\"revised simplex\")\n",
        "opt"
      ],
      "execution_count": 3,
      "outputs": [
        {
          "output_type": "execute_result",
          "data": {
            "text/plain": [
              "     con: array([0., 0.])\n",
              "     fun: 21750.0\n",
              " message: 'Optimization terminated successfully.'\n",
              "     nit: 7\n",
              "   slack: array([750.,   0.])\n",
              "  status: 0\n",
              " success: True\n",
              "       x: array([1.5e+03, 1.5e+03, 1.5e+03, 2.5e+02, 7.5e+02, 5.0e+02, 1.0e+00])"
            ]
          },
          "metadata": {},
          "execution_count": 3
        }
      ]
    },
    {
      "cell_type": "code",
      "metadata": {
        "colab": {
          "base_uri": "https://localhost:8080/"
        },
        "id": "w-Y41jGa2DvC",
        "outputId": "37f84435-f507-4144-ba5c-2ba34fc131f3"
      },
      "source": [
        "c = [-4, -3]\n",
        "A = [[2, 1],[1, 1]]\n",
        "b = [1000, 800]\n",
        "bnd = [(0, 400), (0, 700)]\n",
        "opt = linprog(c, A_ub=A, b_ub=b, bounds=bnd, method=\"revised simplex\")\n",
        "opt"
      ],
      "execution_count": 4,
      "outputs": [
        {
          "output_type": "execute_result",
          "data": {
            "text/plain": [
              "     con: array([], dtype=float64)\n",
              "     fun: -2600.0\n",
              " message: 'Optimization terminated successfully.'\n",
              "     nit: 3\n",
              "   slack: array([0., 0.])\n",
              "  status: 0\n",
              " success: True\n",
              "       x: array([200., 600.])"
            ]
          },
          "metadata": {},
          "execution_count": 4
        }
      ]
    }
  ]
}