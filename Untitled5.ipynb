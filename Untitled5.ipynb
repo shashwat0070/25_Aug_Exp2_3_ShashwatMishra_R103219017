{
  "nbformat": 4,
  "nbformat_minor": 0,
  "metadata": {
    "colab": {
      "name": "Untitled5.ipynb",
      "provenance": [],
      "authorship_tag": "ABX9TyNf/n2+XCESqwzNvn+x2nfr",
      "include_colab_link": true
    },
    "kernelspec": {
      "name": "python3",
      "display_name": "Python 3"
    },
    "language_info": {
      "name": "python"
    }
  },
  "cells": [
    {
      "cell_type": "markdown",
      "metadata": {
        "id": "view-in-github",
        "colab_type": "text"
      },
      "source": [
        "<a href=\"https://colab.research.google.com/github/shashwat0070/25_Aug_Exp2_3_ShashwatMishra_R103219017/blob/main/Untitled5.ipynb\" target=\"_parent\"><img src=\"https://colab.research.google.com/assets/colab-badge.svg\" alt=\"Open In Colab\"/></a>"
      ]
    },
    {
      "cell_type": "code",
      "metadata": {
        "colab": {
          "base_uri": "https://localhost:8080/"
        },
        "id": "GB8liA2HZMjx",
        "outputId": "950acc4c-4b60-47c5-9a85-4c5c4098090b"
      },
      "source": [
        "from scipy.optimize import linprog\n",
        "obj = [-40 , -35]\n",
        "lhs_ineq = [[2,3] , [4,3] ]\n",
        "rhs_ineq = [60,96]\n",
        "bnd = [(0, float(\"inf\")), (0, float(\"inf\"))]\n",
        "opt = linprog(c=obj, A_ub=lhs_ineq, b_ub=rhs_ineq, bounds=bnd,method=\"revised simplex\")\n",
        "opt"
      ],
      "execution_count": 1,
      "outputs": [
        {
          "output_type": "execute_result",
          "data": {
            "text/plain": [
              "     con: array([], dtype=float64)\n",
              "     fun: -1000.0\n",
              " message: 'Optimization terminated successfully.'\n",
              "     nit: 2\n",
              "   slack: array([0., 0.])\n",
              "  status: 0\n",
              " success: True\n",
              "       x: array([18.,  8.])"
            ]
          },
          "metadata": {},
          "execution_count": 1
        }
      ]
    },
    {
      "cell_type": "code",
      "metadata": {
        "colab": {
          "base_uri": "https://localhost:8080/"
        },
        "id": "gsxV73T-ZrWY",
        "outputId": "0fc4d47e-461b-4df8-e1ff-70c25e412f64"
      },
      "source": [
        "obj = [40 , 24]\n",
        "lhs_ineq = [[-20,-50] , [-80,-50] ]\n",
        "rhs_ineq = [-4800,-7200]\n",
        "bnd = [(0, float(\"inf\")), (0, float(\"inf\"))]\n",
        "opt = linprog(c=obj, A_ub=lhs_ineq, b_ub=rhs_ineq, bounds=bnd,method=\"revised simplex\")\n",
        "opt"
      ],
      "execution_count": 2,
      "outputs": [
        {
          "output_type": "execute_result",
          "data": {
            "text/plain": [
              "     con: array([], dtype=float64)\n",
              "     fun: 3456.0\n",
              " message: 'Optimization terminated successfully.'\n",
              "     nit: 3\n",
              "   slack: array([2400.,    0.])\n",
              "  status: 0\n",
              " success: True\n",
              "       x: array([  0., 144.])"
            ]
          },
          "metadata": {},
          "execution_count": 2
        }
      ]
    },
    {
      "cell_type": "code",
      "metadata": {
        "colab": {
          "base_uri": "https://localhost:8080/"
        },
        "id": "azdyOfJ4Z05r",
        "outputId": "6931c290-12e7-43aa-99da-6c0aaaf5e929"
      },
      "source": [
        "obj = [-5 , -2]\n",
        "lhs_ineq = [[10,2] , [1,0.5]]\n",
        "rhs_ineq = [2100,600]\n",
        "bnd = [(0, float(\"inf\")), (800, float(\"inf\"))]\n",
        "opt = linprog(c=obj, A_ub=lhs_ineq, b_ub=rhs_ineq, bounds=bnd,method=\"revised simplex\")\n",
        "opt"
      ],
      "execution_count": 3,
      "outputs": [
        {
          "output_type": "execute_result",
          "data": {
            "text/plain": [
              "     con: array([], dtype=float64)\n",
              "     fun: -2100.0\n",
              " message: 'Optimization terminated successfully.'\n",
              "     nit: 2\n",
              "   slack: array([ 0., 75.])\n",
              "  status: 0\n",
              " success: True\n",
              "       x: array([   0., 1050.])"
            ]
          },
          "metadata": {},
          "execution_count": 3
        }
      ]
    },
    {
      "cell_type": "code",
      "metadata": {
        "colab": {
          "base_uri": "https://localhost:8080/"
        },
        "id": "yDWGDYlIZ5sn",
        "outputId": "e95ba720-2887-4f81-a664-b18783038edf"
      },
      "source": [
        "obj = [-60 , -40]\n",
        "lhs_ineq = [[2,1] ]\n",
        "rhs_ineq = [60]\n",
        "bnd = [(0, 25), (0, 35)]\n",
        "opt = linprog(c=obj, A_ub=lhs_ineq, b_ub=rhs_ineq, bounds=bnd,method=\"revised simplex\")\n",
        "opt\n"
      ],
      "execution_count": 4,
      "outputs": [
        {
          "output_type": "execute_result",
          "data": {
            "text/plain": [
              "     con: array([], dtype=float64)\n",
              "     fun: -2150.0\n",
              " message: 'Optimization terminated successfully.'\n",
              "     nit: 3\n",
              "   slack: array([0.])\n",
              "  status: 0\n",
              " success: True\n",
              "       x: array([12.5, 35. ])"
            ]
          },
          "metadata": {},
          "execution_count": 4
        }
      ]
    },
    {
      "cell_type": "code",
      "metadata": {
        "colab": {
          "base_uri": "https://localhost:8080/"
        },
        "id": "0ZuNBaIZZ-PH",
        "outputId": "27bb116d-965d-4f34-f674-8aa64fadc0f4"
      },
      "source": [
        "obj = [20 , 10]\n",
        "lhs_ineq = [[1,2] , [-3,-1], [-4,-3] ]\n",
        "rhs_ineq = [40,-30,-60]\n",
        "bnd = [(0, float(\"inf\")), (0, float(\"inf\"))]\n",
        "opt = linprog(c=obj, A_ub=lhs_ineq, b_ub=rhs_ineq, bounds=bnd,method=\"revised simplex\")\n",
        "opt"
      ],
      "execution_count": 5,
      "outputs": [
        {
          "output_type": "execute_result",
          "data": {
            "text/plain": [
              "     con: array([], dtype=float64)\n",
              "     fun: 240.0\n",
              " message: 'Optimization terminated successfully.'\n",
              "     nit: 2\n",
              "   slack: array([10.,  0.,  0.])\n",
              "  status: 0\n",
              " success: True\n",
              "       x: array([ 6., 12.])"
            ]
          },
          "metadata": {},
          "execution_count": 5
        }
      ]
    },
    {
      "cell_type": "code",
      "metadata": {
        "colab": {
          "base_uri": "https://localhost:8080/"
        },
        "id": "G5u2cz0daCr7",
        "outputId": "84a32be1-8244-4ea4-f434-c9d7280c87d5"
      },
      "source": [
        "obj = [-1 , -1 , -3]\n",
        "lhs_ineq = [[3,2,1] , [2,1,2]]\n",
        "rhs_ineq = [300,200]\n",
        "bnd = [(0, float(\"inf\")), (0, float(\"inf\")), (0, float(\"inf\"))]\n",
        "opt = linprog(c=obj, A_ub=lhs_ineq, b_ub=rhs_ineq, bounds=bnd,method=\"revised simplex\")\n",
        "opt"
      ],
      "execution_count": 6,
      "outputs": [
        {
          "output_type": "execute_result",
          "data": {
            "text/plain": [
              "     con: array([], dtype=float64)\n",
              "     fun: -300.0\n",
              " message: 'Optimization terminated successfully.'\n",
              "     nit: 1\n",
              "   slack: array([200.,   0.])\n",
              "  status: 0\n",
              " success: True\n",
              "       x: array([  0.,   0., 100.])"
            ]
          },
          "metadata": {},
          "execution_count": 6
        }
      ]
    }
  ]
}