{
  "nbformat": 4,
  "nbformat_minor": 0,
  "metadata": {
    "colab": {
      "name": "1_Sept_Exp_4_Shashwat_R103219017.ipynb",
      "provenance": [],
      "authorship_tag": "ABX9TyOWpDL2ATQvIzkhJ/wsRv9B",
      "include_colab_link": true
    },
    "kernelspec": {
      "name": "python3",
      "display_name": "Python 3"
    },
    "language_info": {
      "name": "python"
    }
  },
  "cells": [
    {
      "cell_type": "markdown",
      "metadata": {
        "id": "view-in-github",
        "colab_type": "text"
      },
      "source": [
        "<a href=\"https://colab.research.google.com/github/shashwat0070/Operational_Research_ShashwatMishra_R103219017/blob/main/1_Sept_Exp_4_Shashwat_R103219017.ipynb\" target=\"_parent\"><img src=\"https://colab.research.google.com/assets/colab-badge.svg\" alt=\"Open In Colab\"/></a>"
      ]
    },
    {
      "cell_type": "code",
      "metadata": {
        "id": "0BR2jc5ox8wQ"
      },
      "source": [
        ""
      ],
      "execution_count": null,
      "outputs": []
    },
    {
      "cell_type": "markdown",
      "metadata": {
        "id": "DPD0nzkeyB-0"
      },
      "source": [
        "OR LAB Experiment - 4\n",
        "Shashwat Mishra - R103219017 - 500075273 - CSE - BAO (5th Sem)"
      ]
    },
    {
      "cell_type": "code",
      "metadata": {
        "id": "hhMg_RtwyJ2G"
      },
      "source": [
        "import cvxpy as cp"
      ],
      "execution_count": 1,
      "outputs": []
    },
    {
      "cell_type": "markdown",
      "metadata": {
        "id": "2RcF3TxfyQDM"
      },
      "source": [
        "**ANS-1**"
      ]
    },
    {
      "cell_type": "code",
      "metadata": {
        "colab": {
          "base_uri": "https://localhost:8080/"
        },
        "id": "x1SL4-NpyLiG",
        "outputId": "9f384da5-4ce1-48b8-9088-849cb8d94adc"
      },
      "source": [
        "x1 = cp.Variable(integer = True)\n",
        "x2 = cp.Variable(integer = True)\n",
        "objective = cp.Maximize( 7*x1 + 10*x2 )\n",
        "constraints = [ -1*x1 + 3*x2 <= 6 , 7*x1 + x2 <= 35, x1>=0, x2>=0]\n",
        "prob = cp.Problem(objective,constraints)\n",
        "prob.solve()\n",
        "print(\"x1:\",x1.value)\n",
        "print(\"x2:\",x2.value)\n",
        "print(\"Obj:\",prob.value)"
      ],
      "execution_count": 2,
      "outputs": [
        {
          "output_type": "stream",
          "name": "stdout",
          "text": [
            "x1: 4.0\n",
            "x2: 3.0\n",
            "Obj: 58.0\n"
          ]
        }
      ]
    },
    {
      "cell_type": "markdown",
      "metadata": {
        "id": "yU1SwAyJyZEs"
      },
      "source": [
        "**ANS_2**"
      ]
    },
    {
      "cell_type": "code",
      "metadata": {
        "colab": {
          "base_uri": "https://localhost:8080/"
        },
        "id": "2rB--OheybWm",
        "outputId": "f39c5a81-734f-47e8-9e7d-46665049e94c"
      },
      "source": [
        "x1 = cp.Variable(integer = True)\n",
        "x2 = cp.Variable(integer = True)\n",
        "objective = cp.Maximize( 5*x1 + 8*x2 )\n",
        "constraints = [ 1*x1 + 1*x2 <= 6 , 5*x1 + 9*x2 <= 45, x1>=0, x2>=0]\n",
        "prob = cp.Problem(objective,constraints)\n",
        "prob.solve()\n",
        "print(\"x1:\",x1.value)\n",
        "print(\"x2:\",x2.value)\n",
        "print(\"Obj:\",prob.value)"
      ],
      "execution_count": 3,
      "outputs": [
        {
          "output_type": "stream",
          "name": "stdout",
          "text": [
            "x1: 0.0\n",
            "x2: 5.0\n",
            "Obj: 40.0\n"
          ]
        }
      ]
    },
    {
      "cell_type": "markdown",
      "metadata": {
        "id": "kMyJ5nfJygni"
      },
      "source": [
        "ANS_3"
      ]
    },
    {
      "cell_type": "markdown",
      "metadata": {
        "id": "y5ZpjNTXyqcG"
      },
      "source": [
        "Machine Setup 1"
      ]
    },
    {
      "cell_type": "code",
      "metadata": {
        "colab": {
          "base_uri": "https://localhost:8080/"
        },
        "id": "wRPPQIpyytbY",
        "outputId": "e97a1467-c528-44a5-a8d1-2188fa232901"
      },
      "source": [
        "x1 = cp.Variable(integer = True)\n",
        "x2 = cp.Variable(integer = True)\n",
        "objective = cp.Maximize( 10*x1 + 12*x2 )\n",
        "constraints = [ x1 + x2 <= 35 , x1<=20, x2<=10]\n",
        "prob = cp.Problem(objective,constraints)\n",
        "prob.solve()\n",
        "print(\"x1:\",x1.value)\n",
        "print(\"x2:\",x2.value)\n",
        "print(\"Obj:\",prob.value)"
      ],
      "execution_count": 4,
      "outputs": [
        {
          "output_type": "stream",
          "name": "stdout",
          "text": [
            "x1: 20.0\n",
            "x2: 10.0\n",
            "Obj: 320.0\n"
          ]
        }
      ]
    },
    {
      "cell_type": "markdown",
      "metadata": {
        "id": "uMPWR0qiywKu"
      },
      "source": [
        "MACHINE SETUP 2"
      ]
    },
    {
      "cell_type": "code",
      "metadata": {
        "colab": {
          "base_uri": "https://localhost:8080/"
        },
        "id": "mTONeKdMy072",
        "outputId": "faf87773-4430-4d7c-ae73-a1149a178629"
      },
      "source": [
        "x1 = cp.Variable(integer = True)\n",
        "x2 = cp.Variable(integer = True)\n",
        "objective = cp.Maximize( 10*x1 + 12*x2 )\n",
        "constraints = [ x1 + x2 <= 35 , x1<=12, x2<=25]\n",
        "prob = cp.Problem(objective,constraints)\n",
        "prob.solve()\n",
        "print(\"x1:\",x1.value)\n",
        "print(\"x2:\",x2.value)\n",
        "print(\"Obj:\",prob.value)"
      ],
      "execution_count": 5,
      "outputs": [
        {
          "output_type": "stream",
          "name": "stdout",
          "text": [
            "x1: 10.0\n",
            "x2: 25.0\n",
            "Obj: 400.0\n"
          ]
        }
      ]
    },
    {
      "cell_type": "code",
      "metadata": {
        "id": "TCy5PjLQy3ya"
      },
      "source": [
        "Machine Setup 2 should be selected as it is giving Max Profit of 400."
      ],
      "execution_count": null,
      "outputs": []
    }
  ]
}